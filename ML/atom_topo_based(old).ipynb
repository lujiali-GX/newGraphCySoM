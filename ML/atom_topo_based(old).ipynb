{
 "cells": [
  {
   "cell_type": "code",
   "execution_count": 1,
   "id": "af6335bf",
   "metadata": {},
   "outputs": [],
   "source": [
    "from sklearn.ensemble import RandomForestClassifier\n",
    "from sklearn.svm import SVC\n",
    "from sklearn.naive_bayes import GaussianNB\n",
    "from sklearn.linear_model import LogisticRegression\n",
    "from sklearn.tree import DecisionTreeClassifier\n",
    "from rdkit import Chem\n",
    "from rdkit.Chem.rdchem import HybridizationType, ChiralType\n",
    "import pickle\n",
    "import numpy as np\n",
    "from sklearn.metrics import roc_auc_score, accuracy_score, matthews_corrcoef\n",
    "from sklearn.model_selection import GridSearchCV"
   ]
  },
  {
   "cell_type": "code",
   "execution_count": 2,
   "id": "8292efbc",
   "metadata": {},
   "outputs": [],
   "source": [
    "def find_topk(a, k, axis=-1, largest=True, sorted=True):\n",
    "    if axis is None:\n",
    "        axis_size = a.size\n",
    "    else:\n",
    "        axis_size = a.shape[axis]\n",
    "    assert 1 <= k <= axis_size\n",
    "\n",
    "    a = np.asanyarray(a)\n",
    "    if largest:\n",
    "        index_array = np.argpartition(a, axis_size-k, axis=axis)\n",
    "        topk_indices = np.take(index_array, -np.arange(k)-1, axis=axis)\n",
    "    else:\n",
    "        index_array = np.argpartition(a, k-1, axis=axis)\n",
    "        topk_indices = np.take(index_array, np.arange(k), axis=axis)\n",
    "    topk_values = np.take_along_axis(a, topk_indices, axis=axis)\n",
    "    if sorted:\n",
    "        sorted_indices_in_topk = np.argsort(topk_values, axis=axis)\n",
    "        if largest:\n",
    "            sorted_indices_in_topk = np.flip(sorted_indices_in_topk, axis=axis)\n",
    "        sorted_topk_values = np.take_along_axis(\n",
    "            topk_values, sorted_indices_in_topk, axis=axis)\n",
    "        sorted_topk_indices = np.take_along_axis(\n",
    "            topk_indices, sorted_indices_in_topk, axis=axis)\n",
    "        return sorted_topk_values, sorted_topk_indices\n",
    "    return topk_values, topk_indices"
   ]
  },
  {
   "cell_type": "markdown",
   "id": "9e5bfbe5",
   "metadata": {},
   "source": [
    "# dataset"
   ]
  },
  {
   "cell_type": "code",
   "execution_count": 7,
   "id": "bcef1cc7",
   "metadata": {},
   "outputs": [],
   "source": [
    "def _get_node_features(mol):\n",
    "    all_node_feats = []\n",
    "\n",
    "    identity = {\n",
    "        'C':[1,0,0,0,0,0,0,0,0,0],\n",
    "        'N':[0,1,0,0,0,0,0,0,0,0],\n",
    "        'O':[0,0,1,0,0,0,0,0,0,0],\n",
    "        'F':[0,0,0,1,0,0,0,0,0,0],\n",
    "        'P':[0,0,0,0,1,0,0,0,0,0],\n",
    "        'S':[0,0,0,0,0,1,0,0,0,0],\n",
    "        'Cl':[0,0,0,0,0,0,1,0,0,0],\n",
    "        'Br':[0,0,0,0,0,0,0,1,0,0],\n",
    "        'I':[0,0,0,0,0,0,0,0,1,0],\n",
    "        'other':[0,0,0,0,0,0,0,0,0,1],\n",
    "    }\n",
    "    for atom in mol.GetAtoms():\n",
    "        node_feats = []\n",
    "        # atom number\n",
    "        idx = atom.GetIdx()\n",
    "        # atom type one-hot 10\n",
    "        node_feats.extend(identity.get(atom.GetSymbol(),[0,0,0,0,0,0,0,0,0,1]))\n",
    "        # implicit valence\n",
    "        node_feats.append(atom.GetImplicitValence())\n",
    "        # formal charge\n",
    "        node_feats.append(atom.GetFormalCharge())\n",
    "        # radical electrons\n",
    "        node_feats.append(atom.GetNumRadicalElectrons())\n",
    "            \n",
    "        # aromatic 0 or 1\n",
    "        if atom.GetIsAromatic():\n",
    "            node_feats.append(1)\n",
    "        else:\n",
    "            node_feats.append(0)\n",
    "\n",
    "        # chirality\n",
    "        chirality = atom.GetChiralTag()\n",
    "        if chirality == ChiralType.CHI_TETRAHEDRAL_CCW: temp = [1, 0, 0, 0]\n",
    "        if chirality == ChiralType.CHI_TETRAHEDRAL_CW: temp = [0, 1, 0, 0]\n",
    "        if chirality == ChiralType.CHI_OTHER: temp = [0, 0, 1, 0]\n",
    "        if chirality == ChiralType.CHI_UNSPECIFIED: temp = [0, 0, 0, 1]\n",
    "        node_feats.extend(temp)\n",
    "        # hybridization\n",
    "        hybridization = atom.GetHybridization()\n",
    "        if hybridization == HybridizationType.S: tmp = [1, 0, 0, 0, 0, 0, 0, 0]\n",
    "        if hybridization == HybridizationType.SP: tmp = [0, 1, 0, 0, 0, 0, 0, 0]\n",
    "        if hybridization == HybridizationType.SP2: tmp = [0, 0, 1, 0, 0, 0, 0, 0]\n",
    "        if hybridization == HybridizationType.SP3: tmp = [0, 0, 0, 1, 0, 0, 0, 0]\n",
    "        if hybridization == HybridizationType.SP3D: tmp = [0, 0, 0, 0, 1, 0, 0, 0]\n",
    "        if hybridization == HybridizationType.SP3D2: tmp = [0, 0, 0, 0, 0, 1, 0, 0]\n",
    "        if hybridization == HybridizationType.OTHER: tmp = [0, 0, 0, 0, 0, 0, 1, 0]\n",
    "        if hybridization == HybridizationType.UNSPECIFIED: tmp = [0, 0, 0, 0, 0, 0, 0, 1]\n",
    "        node_feats.extend(tmp)\n",
    "\n",
    "        # degree\n",
    "        node_feats.append(atom.GetDegree())\n",
    "        # hydrogen\n",
    "        node_feats.append(atom.GetTotalNumHs())\n",
    "        # ring status 0 or 1\n",
    "        if atom.IsInRing():\n",
    "            node_feats.append(1)\n",
    "        else:\n",
    "            node_feats.append(0)\n",
    "        # Append node features to matrix\n",
    "        all_node_feats.append(node_feats)\n",
    "\n",
    "    all_node_feats = np.asarray(all_node_feats, dtype=np.float)\n",
    "    return all_node_feats\n",
    "\n",
    "def _get_labels(mol):\n",
    "    _y = []\n",
    "    som = ['PRIMARY_SOM_1A2', 'PRIMARY_SOM_2A6','PRIMARY_SOM_2B6','PRIMARY_SOM_2C8','PRIMARY_SOM_2C9','PRIMARY_SOM_2C19','PRIMARY_SOM_2D6','PRIMARY_SOM_2E1','PRIMARY_SOM_3A4',\n",
    "            'SECONDARY_SOM_1A2', 'SECONDARY_SOM_2A6','SECONDARY_SOM_2B6','SECONDARY_SOM_2C8','SECONDARY_SOM_2C9','SECONDARY_SOM_2C19','SECONDARY_SOM_2D6','SECONDARY_SOM_2E1','SECONDARY_SOM_3A4',\n",
    "            'TERTIARY_SOM_1A2', 'TERTIARY_SOM_2A6','TERTIARY_SOM_2B6','TERTIARY_SOM_2C8','TERTIARY_SOM_2C9','TERTIARY_SOM_2C19','TERTIARY_SOM_2D6','TERTIARY_SOM_2E1','TERTIARY_SOM_3A4'\n",
    "            ]\n",
    "    result = []\n",
    "    for k in som:\n",
    "        try:\n",
    "            _res = mol.GetProp(k)\n",
    "            if ' ' in _res:\n",
    "                res = _res.split(' ')\n",
    "                for s in res:\n",
    "                    result.append(int(s))\n",
    "            else:\n",
    "                result.append(int(_res))\n",
    "        except:\n",
    "            pass\n",
    "\n",
    "    for data in result:\n",
    "        _y.append(data)\n",
    "    _y = list(set(_y))\n",
    "\n",
    "    y = np.zeros(len(mol.GetAtoms()))\n",
    "    for i in _y:\n",
    "        y[i-1] = 1\n",
    "    return y"
   ]
  },
  {
   "cell_type": "code",
   "execution_count": 8,
   "id": "594904f5",
   "metadata": {},
   "outputs": [],
   "source": [
    "filepath = '../Dataset/merged.sdf'\n",
    "raws = Chem.SDMolSupplier(filepath)"
   ]
  },
  {
   "cell_type": "code",
   "execution_count": 9,
   "id": "a2e3598c",
   "metadata": {},
   "outputs": [],
   "source": [
    "mols = [mol for mol in raws]"
   ]
  },
  {
   "cell_type": "code",
   "execution_count": 10,
   "id": "9008f096",
   "metadata": {},
   "outputs": [
    {
     "name": "stderr",
     "output_type": "stream",
     "text": [
      "/tmp/ipykernel_1915300/2377401473.py:66: DeprecationWarning: `np.float` is a deprecated alias for the builtin `float`. To silence this warning, use `float` by itself. Doing this will not modify any behavior and is safe. If you specifically wanted the numpy scalar type, use `np.float64` here.\n",
      "Deprecated in NumPy 1.20; for more details and guidance: https://numpy.org/devdocs/release/1.20.0-notes.html#deprecations\n",
      "  all_node_feats = np.asarray(all_node_feats, dtype=np.float)\n"
     ]
    }
   ],
   "source": [
    "dataset = []\n",
    "for mol in mols:\n",
    "    mol_feature = _get_node_features(mol)\n",
    "    label = _get_labels(mol)\n",
    "    dataset.append((mol_feature, label))"
   ]
  },
  {
   "cell_type": "code",
   "execution_count": 11,
   "id": "c1def783",
   "metadata": {},
   "outputs": [],
   "source": [
    "import random\n",
    "random.seed(42)\n",
    "random.shuffle(dataset)"
   ]
  },
  {
   "cell_type": "code",
   "execution_count": 12,
   "id": "a0e3e2d2",
   "metadata": {},
   "outputs": [],
   "source": [
    "training_set = dataset[:int(len(dataset) * 0.8)]\n",
    "test_set = dataset[int(len(dataset) * 0.8):]"
   ]
  },
  {
   "cell_type": "code",
   "execution_count": 13,
   "id": "ab982338",
   "metadata": {},
   "outputs": [
    {
     "name": "stdout",
     "output_type": "stream",
     "text": [
      "tr_all means all training atoms num, num is 12010\n",
      "training set molecule num is 544\n",
      "all atoms is 12010\n"
     ]
    }
   ],
   "source": [
    "tr_all = 0 # all training atoms\n",
    "tr_indices = [] # molecule nums\n",
    "y_train = [] # label\n",
    "for feature, label in training_set:\n",
    "    tr_all += feature.shape[0]\n",
    "    tr_indices.append(len(label))\n",
    "    y_train.extend(label)\n",
    "print(f'tr_all means all training atoms num, num is {tr_all}')\n",
    "print(f'training set molecule num is {len(tr_indices)}')\n",
    "print(f'all atoms is {len(y_train)}')"
   ]
  },
  {
   "cell_type": "code",
   "execution_count": 14,
   "id": "6e9af245",
   "metadata": {},
   "outputs": [],
   "source": [
    "x_train = np.zeros((tr_all, training_set[0][0].shape[1]))\n",
    "pre = 0\n",
    "for i in range(len(tr_indices)):\n",
    "    if i == 0:\n",
    "        x_train[:tr_indices[i], :] = training_set[i][0]\n",
    "    else:\n",
    "        j = i - 1\n",
    "        pre += tr_indices[j]\n",
    "        x_train[pre:pre + tr_indices[i], :] = training_set[i][0]"
   ]
  },
  {
   "cell_type": "code",
   "execution_count": 15,
   "id": "7147eaca",
   "metadata": {},
   "outputs": [],
   "source": [
    "y_train = np.array(y_train)"
   ]
  },
  {
   "cell_type": "code",
   "execution_count": 16,
   "id": "5c064589",
   "metadata": {},
   "outputs": [
    {
     "name": "stdout",
     "output_type": "stream",
     "text": [
      "3259\n",
      "136\n",
      "3259\n"
     ]
    }
   ],
   "source": [
    "# test 时拼成一个大矩阵\n",
    "te_all = 0\n",
    "te_indices = []\n",
    "y_test = []\n",
    "for feature, label in test_set:\n",
    "    te_all += feature.shape[0]\n",
    "    te_indices.append(len(label))\n",
    "    y_test.extend(label)\n",
    "print(te_all)\n",
    "print(len(te_indices))\n",
    "print(len(y_test))"
   ]
  },
  {
   "cell_type": "code",
   "execution_count": 17,
   "id": "3c7c9636",
   "metadata": {},
   "outputs": [],
   "source": [
    "x_test = np.zeros((te_all, training_set[0][0].shape[1]))\n",
    "pre = 0\n",
    "for i in range(len(te_indices)):\n",
    "    if i == 0:\n",
    "        x_test[:te_indices[i], :] = test_set[i][0]\n",
    "    else:\n",
    "        j = i - 1\n",
    "        pre += te_indices[j]\n",
    "        x_test[pre:pre + te_indices[i], :] = test_set[i][0]"
   ]
  },
  {
   "cell_type": "code",
   "execution_count": 18,
   "id": "45fc73e5",
   "metadata": {},
   "outputs": [],
   "source": [
    "y_test = np.array(y_test)"
   ]
  },
  {
   "cell_type": "markdown",
   "id": "2393af47",
   "metadata": {},
   "source": [
    "# random forest"
   ]
  },
  {
   "cell_type": "code",
   "execution_count": 19,
   "id": "0228153f",
   "metadata": {},
   "outputs": [
    {
     "data": {
      "text/plain": [
       "GridSearchCV(cv=5,\n",
       "             estimator=RandomForestClassifier(class_weight='balanced',\n",
       "                                              random_state=42),\n",
       "             param_grid={'criterion': ['gini', 'entropy'],\n",
       "                         'max_depth': [10, 20, 30],\n",
       "                         'n_estimators': [100, 150, 200, 50]},\n",
       "             scoring='roc_auc')"
      ]
     },
     "execution_count": 19,
     "metadata": {},
     "output_type": "execute_result"
    }
   ],
   "source": [
    "# gridsearch random forest\n",
    "max_depths = [10, 20, 30]\n",
    "criterions = ['gini', 'entropy']\n",
    "_n_estimators = [100, 150, 200, 50]\n",
    "tuned_parameters = dict(max_depth=max_depths,criterion=criterions, n_estimators=_n_estimators)\n",
    "clf = RandomForestClassifier(random_state=42, class_weight='balanced')\n",
    "grid = GridSearchCV(clf, tuned_parameters, cv=5, scoring='roc_auc')\n",
    "grid.fit(x_train, y_train)"
   ]
  },
  {
   "cell_type": "code",
   "execution_count": 20,
   "id": "e669db56",
   "metadata": {},
   "outputs": [
    {
     "name": "stdout",
     "output_type": "stream",
     "text": [
      "0.7943690667280146\n",
      "{'criterion': 'entropy', 'max_depth': 20, 'n_estimators': 200}\n"
     ]
    }
   ],
   "source": [
    "print(grid.best_score_)\n",
    "print(grid.best_params_)"
   ]
  },
  {
   "cell_type": "code",
   "execution_count": 21,
   "id": "eec110cc",
   "metadata": {},
   "outputs": [],
   "source": [
    "clf = RandomForestClassifier(n_estimators=200,max_depth=20,criterion='entropy',random_state=42, class_weight='balanced').fit(x_train, y_train)"
   ]
  },
  {
   "cell_type": "code",
   "execution_count": 22,
   "id": "59de9f3b",
   "metadata": {},
   "outputs": [],
   "source": [
    "preds = clf.predict(x_test)\n",
    "logits = clf.predict_proba(x_test)"
   ]
  },
  {
   "cell_type": "code",
   "execution_count": 23,
   "id": "24dc7c61",
   "metadata": {},
   "outputs": [
    {
     "name": "stdout",
     "output_type": "stream",
     "text": [
      "(21,)\n",
      "70\n",
      "136\n",
      "top2 acc: 0.5147058823529411\n"
     ]
    }
   ],
   "source": [
    "# 拆分出logits， 计算top-k\n",
    "top2 = 0\n",
    "pre = 0\n",
    "for i in range(len(te_indices)):\n",
    "    if i == 0:\n",
    "        # 取出第一列，\n",
    "        y_preds = logits[:te_indices[i], :][:, 1]\n",
    "        print(y_preds.shape)\n",
    "        topk_values, topk_indices = find_topk(y_preds, 2)\n",
    "        for a in range(len(test_set[i][1])):\n",
    "            if test_set[i][1][a] == 1 and a in topk_indices:\n",
    "                top2 += 1\n",
    "                break\n",
    "    else:\n",
    "        j = i - 1\n",
    "        pre += te_indices[j]\n",
    "        y_preds = logits[pre:pre + te_indices[i], :][:, 1]\n",
    "        topk_values, topk_indices = find_topk(y_preds, 2)\n",
    "        for a in range(len(test_set[i][1])):\n",
    "            if test_set[i][1][a] == 1 and a in topk_indices:\n",
    "                top2 += 1\n",
    "                break\n",
    "print(top2)\n",
    "print(len(test_set))\n",
    "print(f'top2 acc: {top2 / len(test_set)}')"
   ]
  },
  {
   "cell_type": "code",
   "execution_count": 24,
   "id": "781e2f3e",
   "metadata": {},
   "outputs": [
    {
     "data": {
      "text/plain": [
       "0.7353808756891919"
      ]
     },
     "execution_count": 24,
     "metadata": {},
     "output_type": "execute_result"
    }
   ],
   "source": [
    "roc_auc_score(y_test, preds)"
   ]
  },
  {
   "cell_type": "code",
   "execution_count": 25,
   "id": "8be5bee2",
   "metadata": {},
   "outputs": [
    {
     "data": {
      "text/plain": [
       "0.2790040765620911"
      ]
     },
     "execution_count": 25,
     "metadata": {},
     "output_type": "execute_result"
    }
   ],
   "source": [
    "matthews_corrcoef(y_test, preds)"
   ]
  },
  {
   "cell_type": "markdown",
   "id": "c3c13b59",
   "metadata": {},
   "source": [
    "# decision tree"
   ]
  },
  {
   "cell_type": "code",
   "execution_count": 26,
   "id": "60fa9bec",
   "metadata": {},
   "outputs": [
    {
     "data": {
      "text/plain": [
       "GridSearchCV(cv=5,\n",
       "             estimator=DecisionTreeClassifier(class_weight='balanced',\n",
       "                                              random_state=42),\n",
       "             param_grid={'criterion': ['gini', 'entropy'],\n",
       "                         'max_depth': [10, 20, 30, 40, 50, None],\n",
       "                         'splitter': ['best', 'random']},\n",
       "             scoring='roc_auc')"
      ]
     },
     "execution_count": 26,
     "metadata": {},
     "output_type": "execute_result"
    }
   ],
   "source": [
    "# gridsearch\n",
    "max_depths = [10, 20, 30, 40, 50, None]\n",
    "criterions = ['gini', 'entropy']\n",
    "splitters = ['best', 'random']\n",
    "tuned_parameters = dict(max_depth=max_depths,criterion=criterions, splitter=splitters)\n",
    "clf = DecisionTreeClassifier(random_state=42, class_weight='balanced')\n",
    "grid = GridSearchCV(clf, tuned_parameters, cv=5, scoring='roc_auc')\n",
    "grid.fit(x_train, y_train)"
   ]
  },
  {
   "cell_type": "code",
   "execution_count": 27,
   "id": "e84bbcb4",
   "metadata": {},
   "outputs": [
    {
     "name": "stdout",
     "output_type": "stream",
     "text": [
      "0.7934739454526759\n",
      "{'criterion': 'gini', 'max_depth': 20, 'splitter': 'best'}\n"
     ]
    }
   ],
   "source": [
    "print(grid.best_score_)\n",
    "print(grid.best_params_)"
   ]
  },
  {
   "cell_type": "code",
   "execution_count": 28,
   "id": "8168bfe5",
   "metadata": {},
   "outputs": [],
   "source": [
    "clf = DecisionTreeClassifier(random_state=42, class_weight='balanced', criterion='gini', max_depth=20, splitter='best').fit(x_train, y_train)"
   ]
  },
  {
   "cell_type": "code",
   "execution_count": 29,
   "id": "a3fc84d2",
   "metadata": {},
   "outputs": [],
   "source": [
    "preds = clf.predict(x_test)\n",
    "logits = clf.predict_proba(x_test)"
   ]
  },
  {
   "cell_type": "code",
   "execution_count": 30,
   "id": "1a12ddd1",
   "metadata": {},
   "outputs": [
    {
     "data": {
      "text/plain": [
       "0.7371013087944208"
      ]
     },
     "execution_count": 30,
     "metadata": {},
     "output_type": "execute_result"
    }
   ],
   "source": [
    "roc_auc_score(y_test, preds)"
   ]
  },
  {
   "cell_type": "code",
   "execution_count": 31,
   "id": "816cd0e1",
   "metadata": {},
   "outputs": [
    {
     "data": {
      "text/plain": [
       "0.28105320254767735"
      ]
     },
     "execution_count": 31,
     "metadata": {},
     "output_type": "execute_result"
    }
   ],
   "source": [
    "matthews_corrcoef(y_test, preds)"
   ]
  },
  {
   "cell_type": "code",
   "execution_count": 32,
   "id": "90e37d31",
   "metadata": {},
   "outputs": [
    {
     "name": "stdout",
     "output_type": "stream",
     "text": [
      "71\n",
      "136\n",
      "top2 acc: 0.5220588235294118\n"
     ]
    }
   ],
   "source": [
    "# 拆分出logits， 计算top-k\n",
    "top2 = 0\n",
    "pre = 0\n",
    "for i in range(len(te_indices)):\n",
    "    if i == 0:\n",
    "        y_preds = logits[:te_indices[i], :][:, 1]\n",
    "        topk_values, topk_indices = find_topk(y_preds, 2)\n",
    "        for a in range(len(test_set[i][1])):\n",
    "            if test_set[i][1][a] == 1 and a in topk_indices:\n",
    "                top2 += 1\n",
    "                break\n",
    "    else:\n",
    "        j = i - 1\n",
    "        pre += te_indices[j]\n",
    "        y_preds = logits[pre:pre + te_indices[i], :][:, 1]\n",
    "        topk_values, topk_indices = find_topk(y_preds, 2)\n",
    "        for a in range(len(test_set[i][1])):\n",
    "            if test_set[i][1][a] == 1 and a in topk_indices:\n",
    "                top2 += 1\n",
    "                break\n",
    "print(top2)\n",
    "print(len(test_set))\n",
    "print(f'top2 acc: {top2 / len(test_set)}')"
   ]
  },
  {
   "cell_type": "markdown",
   "id": "39236c58",
   "metadata": {},
   "source": [
    "# logistic regression"
   ]
  },
  {
   "cell_type": "code",
   "execution_count": 33,
   "id": "e577ed97",
   "metadata": {
    "collapsed": true
   },
   "outputs": [
    {
     "name": "stderr",
     "output_type": "stream",
     "text": [
      "/home/jgl/anaconda3/envs/pytorch/lib/python3.8/site-packages/sklearn/linear_model/_logistic.py:1355: UserWarning: 'n_jobs' > 1 does not have any effect when 'solver' is set to 'liblinear'. Got 'n_jobs' = 32.\n",
      "  warnings.warn(\"'n_jobs' > 1 does not have any effect when\"\n",
      "/home/jgl/anaconda3/envs/pytorch/lib/python3.8/site-packages/sklearn/linear_model/_logistic.py:1355: UserWarning: 'n_jobs' > 1 does not have any effect when 'solver' is set to 'liblinear'. Got 'n_jobs' = 32.\n",
      "  warnings.warn(\"'n_jobs' > 1 does not have any effect when\"\n",
      "/home/jgl/anaconda3/envs/pytorch/lib/python3.8/site-packages/sklearn/linear_model/_logistic.py:1355: UserWarning: 'n_jobs' > 1 does not have any effect when 'solver' is set to 'liblinear'. Got 'n_jobs' = 32.\n",
      "  warnings.warn(\"'n_jobs' > 1 does not have any effect when\"\n",
      "/home/jgl/anaconda3/envs/pytorch/lib/python3.8/site-packages/sklearn/linear_model/_logistic.py:1355: UserWarning: 'n_jobs' > 1 does not have any effect when 'solver' is set to 'liblinear'. Got 'n_jobs' = 32.\n",
      "  warnings.warn(\"'n_jobs' > 1 does not have any effect when\"\n",
      "/home/jgl/anaconda3/envs/pytorch/lib/python3.8/site-packages/sklearn/linear_model/_logistic.py:1355: UserWarning: 'n_jobs' > 1 does not have any effect when 'solver' is set to 'liblinear'. Got 'n_jobs' = 32.\n",
      "  warnings.warn(\"'n_jobs' > 1 does not have any effect when\"\n",
      "/home/jgl/anaconda3/envs/pytorch/lib/python3.8/site-packages/sklearn/linear_model/_logistic.py:1355: UserWarning: 'n_jobs' > 1 does not have any effect when 'solver' is set to 'liblinear'. Got 'n_jobs' = 32.\n",
      "  warnings.warn(\"'n_jobs' > 1 does not have any effect when\"\n",
      "/home/jgl/anaconda3/envs/pytorch/lib/python3.8/site-packages/sklearn/linear_model/_logistic.py:1355: UserWarning: 'n_jobs' > 1 does not have any effect when 'solver' is set to 'liblinear'. Got 'n_jobs' = 32.\n",
      "  warnings.warn(\"'n_jobs' > 1 does not have any effect when\"\n",
      "/home/jgl/anaconda3/envs/pytorch/lib/python3.8/site-packages/sklearn/linear_model/_logistic.py:1355: UserWarning: 'n_jobs' > 1 does not have any effect when 'solver' is set to 'liblinear'. Got 'n_jobs' = 32.\n",
      "  warnings.warn(\"'n_jobs' > 1 does not have any effect when\"\n",
      "/home/jgl/anaconda3/envs/pytorch/lib/python3.8/site-packages/sklearn/linear_model/_logistic.py:1355: UserWarning: 'n_jobs' > 1 does not have any effect when 'solver' is set to 'liblinear'. Got 'n_jobs' = 32.\n",
      "  warnings.warn(\"'n_jobs' > 1 does not have any effect when\"\n",
      "/home/jgl/anaconda3/envs/pytorch/lib/python3.8/site-packages/sklearn/linear_model/_logistic.py:1355: UserWarning: 'n_jobs' > 1 does not have any effect when 'solver' is set to 'liblinear'. Got 'n_jobs' = 32.\n",
      "  warnings.warn(\"'n_jobs' > 1 does not have any effect when\"\n",
      "/home/jgl/anaconda3/envs/pytorch/lib/python3.8/site-packages/sklearn/linear_model/_logistic.py:1355: UserWarning: 'n_jobs' > 1 does not have any effect when 'solver' is set to 'liblinear'. Got 'n_jobs' = 32.\n",
      "  warnings.warn(\"'n_jobs' > 1 does not have any effect when\"\n",
      "/home/jgl/anaconda3/envs/pytorch/lib/python3.8/site-packages/sklearn/linear_model/_logistic.py:1355: UserWarning: 'n_jobs' > 1 does not have any effect when 'solver' is set to 'liblinear'. Got 'n_jobs' = 32.\n",
      "  warnings.warn(\"'n_jobs' > 1 does not have any effect when\"\n",
      "/home/jgl/anaconda3/envs/pytorch/lib/python3.8/site-packages/sklearn/linear_model/_logistic.py:1355: UserWarning: 'n_jobs' > 1 does not have any effect when 'solver' is set to 'liblinear'. Got 'n_jobs' = 32.\n",
      "  warnings.warn(\"'n_jobs' > 1 does not have any effect when\"\n",
      "/home/jgl/anaconda3/envs/pytorch/lib/python3.8/site-packages/sklearn/linear_model/_logistic.py:1355: UserWarning: 'n_jobs' > 1 does not have any effect when 'solver' is set to 'liblinear'. Got 'n_jobs' = 32.\n",
      "  warnings.warn(\"'n_jobs' > 1 does not have any effect when\"\n",
      "/home/jgl/anaconda3/envs/pytorch/lib/python3.8/site-packages/sklearn/linear_model/_logistic.py:1355: UserWarning: 'n_jobs' > 1 does not have any effect when 'solver' is set to 'liblinear'. Got 'n_jobs' = 32.\n",
      "  warnings.warn(\"'n_jobs' > 1 does not have any effect when\"\n",
      "/home/jgl/anaconda3/envs/pytorch/lib/python3.8/site-packages/sklearn/linear_model/_logistic.py:1355: UserWarning: 'n_jobs' > 1 does not have any effect when 'solver' is set to 'liblinear'. Got 'n_jobs' = 32.\n",
      "  warnings.warn(\"'n_jobs' > 1 does not have any effect when\"\n",
      "/home/jgl/anaconda3/envs/pytorch/lib/python3.8/site-packages/sklearn/linear_model/_logistic.py:1355: UserWarning: 'n_jobs' > 1 does not have any effect when 'solver' is set to 'liblinear'. Got 'n_jobs' = 32.\n",
      "  warnings.warn(\"'n_jobs' > 1 does not have any effect when\"\n",
      "/home/jgl/anaconda3/envs/pytorch/lib/python3.8/site-packages/sklearn/linear_model/_logistic.py:1355: UserWarning: 'n_jobs' > 1 does not have any effect when 'solver' is set to 'liblinear'. Got 'n_jobs' = 32.\n",
      "  warnings.warn(\"'n_jobs' > 1 does not have any effect when\"\n",
      "/home/jgl/anaconda3/envs/pytorch/lib/python3.8/site-packages/sklearn/linear_model/_logistic.py:1355: UserWarning: 'n_jobs' > 1 does not have any effect when 'solver' is set to 'liblinear'. Got 'n_jobs' = 32.\n",
      "  warnings.warn(\"'n_jobs' > 1 does not have any effect when\"\n",
      "/home/jgl/anaconda3/envs/pytorch/lib/python3.8/site-packages/sklearn/linear_model/_logistic.py:1355: UserWarning: 'n_jobs' > 1 does not have any effect when 'solver' is set to 'liblinear'. Got 'n_jobs' = 32.\n",
      "  warnings.warn(\"'n_jobs' > 1 does not have any effect when\"\n",
      "/home/jgl/anaconda3/envs/pytorch/lib/python3.8/site-packages/sklearn/linear_model/_logistic.py:1355: UserWarning: 'n_jobs' > 1 does not have any effect when 'solver' is set to 'liblinear'. Got 'n_jobs' = 32.\n",
      "  warnings.warn(\"'n_jobs' > 1 does not have any effect when\"\n",
      "/home/jgl/anaconda3/envs/pytorch/lib/python3.8/site-packages/sklearn/linear_model/_logistic.py:1355: UserWarning: 'n_jobs' > 1 does not have any effect when 'solver' is set to 'liblinear'. Got 'n_jobs' = 32.\n",
      "  warnings.warn(\"'n_jobs' > 1 does not have any effect when\"\n",
      "/home/jgl/anaconda3/envs/pytorch/lib/python3.8/site-packages/sklearn/linear_model/_logistic.py:1355: UserWarning: 'n_jobs' > 1 does not have any effect when 'solver' is set to 'liblinear'. Got 'n_jobs' = 32.\n",
      "  warnings.warn(\"'n_jobs' > 1 does not have any effect when\"\n",
      "/home/jgl/anaconda3/envs/pytorch/lib/python3.8/site-packages/sklearn/linear_model/_logistic.py:1355: UserWarning: 'n_jobs' > 1 does not have any effect when 'solver' is set to 'liblinear'. Got 'n_jobs' = 32.\n",
      "  warnings.warn(\"'n_jobs' > 1 does not have any effect when\"\n",
      "/home/jgl/anaconda3/envs/pytorch/lib/python3.8/site-packages/sklearn/linear_model/_logistic.py:1355: UserWarning: 'n_jobs' > 1 does not have any effect when 'solver' is set to 'liblinear'. Got 'n_jobs' = 32.\n",
      "  warnings.warn(\"'n_jobs' > 1 does not have any effect when\"\n",
      "/home/jgl/anaconda3/envs/pytorch/lib/python3.8/site-packages/sklearn/linear_model/_logistic.py:1355: UserWarning: 'n_jobs' > 1 does not have any effect when 'solver' is set to 'liblinear'. Got 'n_jobs' = 32.\n",
      "  warnings.warn(\"'n_jobs' > 1 does not have any effect when\"\n",
      "/home/jgl/anaconda3/envs/pytorch/lib/python3.8/site-packages/sklearn/linear_model/_logistic.py:1355: UserWarning: 'n_jobs' > 1 does not have any effect when 'solver' is set to 'liblinear'. Got 'n_jobs' = 32.\n",
      "  warnings.warn(\"'n_jobs' > 1 does not have any effect when\"\n",
      "/home/jgl/anaconda3/envs/pytorch/lib/python3.8/site-packages/sklearn/linear_model/_logistic.py:1355: UserWarning: 'n_jobs' > 1 does not have any effect when 'solver' is set to 'liblinear'. Got 'n_jobs' = 32.\n",
      "  warnings.warn(\"'n_jobs' > 1 does not have any effect when\"\n",
      "/home/jgl/anaconda3/envs/pytorch/lib/python3.8/site-packages/sklearn/linear_model/_logistic.py:1355: UserWarning: 'n_jobs' > 1 does not have any effect when 'solver' is set to 'liblinear'. Got 'n_jobs' = 32.\n",
      "  warnings.warn(\"'n_jobs' > 1 does not have any effect when\"\n",
      "/home/jgl/anaconda3/envs/pytorch/lib/python3.8/site-packages/sklearn/linear_model/_logistic.py:1355: UserWarning: 'n_jobs' > 1 does not have any effect when 'solver' is set to 'liblinear'. Got 'n_jobs' = 32.\n",
      "  warnings.warn(\"'n_jobs' > 1 does not have any effect when\"\n",
      "/home/jgl/anaconda3/envs/pytorch/lib/python3.8/site-packages/sklearn/linear_model/_logistic.py:1355: UserWarning: 'n_jobs' > 1 does not have any effect when 'solver' is set to 'liblinear'. Got 'n_jobs' = 32.\n",
      "  warnings.warn(\"'n_jobs' > 1 does not have any effect when\"\n",
      "/home/jgl/anaconda3/envs/pytorch/lib/python3.8/site-packages/sklearn/linear_model/_logistic.py:1355: UserWarning: 'n_jobs' > 1 does not have any effect when 'solver' is set to 'liblinear'. Got 'n_jobs' = 32.\n",
      "  warnings.warn(\"'n_jobs' > 1 does not have any effect when\"\n",
      "/home/jgl/anaconda3/envs/pytorch/lib/python3.8/site-packages/sklearn/linear_model/_logistic.py:1355: UserWarning: 'n_jobs' > 1 does not have any effect when 'solver' is set to 'liblinear'. Got 'n_jobs' = 32.\n",
      "  warnings.warn(\"'n_jobs' > 1 does not have any effect when\"\n",
      "/home/jgl/anaconda3/envs/pytorch/lib/python3.8/site-packages/sklearn/linear_model/_logistic.py:1355: UserWarning: 'n_jobs' > 1 does not have any effect when 'solver' is set to 'liblinear'. Got 'n_jobs' = 32.\n",
      "  warnings.warn(\"'n_jobs' > 1 does not have any effect when\"\n",
      "/home/jgl/anaconda3/envs/pytorch/lib/python3.8/site-packages/sklearn/linear_model/_logistic.py:1355: UserWarning: 'n_jobs' > 1 does not have any effect when 'solver' is set to 'liblinear'. Got 'n_jobs' = 32.\n",
      "  warnings.warn(\"'n_jobs' > 1 does not have any effect when\"\n"
     ]
    },
    {
     "name": "stderr",
     "output_type": "stream",
     "text": [
      "/home/jgl/anaconda3/envs/pytorch/lib/python3.8/site-packages/sklearn/linear_model/_logistic.py:1355: UserWarning: 'n_jobs' > 1 does not have any effect when 'solver' is set to 'liblinear'. Got 'n_jobs' = 32.\n",
      "  warnings.warn(\"'n_jobs' > 1 does not have any effect when\"\n",
      "/home/jgl/anaconda3/envs/pytorch/lib/python3.8/site-packages/sklearn/linear_model/_logistic.py:1355: UserWarning: 'n_jobs' > 1 does not have any effect when 'solver' is set to 'liblinear'. Got 'n_jobs' = 32.\n",
      "  warnings.warn(\"'n_jobs' > 1 does not have any effect when\"\n",
      "/home/jgl/anaconda3/envs/pytorch/lib/python3.8/site-packages/sklearn/linear_model/_logistic.py:1355: UserWarning: 'n_jobs' > 1 does not have any effect when 'solver' is set to 'liblinear'. Got 'n_jobs' = 32.\n",
      "  warnings.warn(\"'n_jobs' > 1 does not have any effect when\"\n",
      "/home/jgl/anaconda3/envs/pytorch/lib/python3.8/site-packages/sklearn/linear_model/_logistic.py:1355: UserWarning: 'n_jobs' > 1 does not have any effect when 'solver' is set to 'liblinear'. Got 'n_jobs' = 32.\n",
      "  warnings.warn(\"'n_jobs' > 1 does not have any effect when\"\n",
      "/home/jgl/anaconda3/envs/pytorch/lib/python3.8/site-packages/sklearn/linear_model/_logistic.py:1355: UserWarning: 'n_jobs' > 1 does not have any effect when 'solver' is set to 'liblinear'. Got 'n_jobs' = 32.\n",
      "  warnings.warn(\"'n_jobs' > 1 does not have any effect when\"\n",
      "/home/jgl/anaconda3/envs/pytorch/lib/python3.8/site-packages/sklearn/linear_model/_logistic.py:1355: UserWarning: 'n_jobs' > 1 does not have any effect when 'solver' is set to 'liblinear'. Got 'n_jobs' = 32.\n",
      "  warnings.warn(\"'n_jobs' > 1 does not have any effect when\"\n",
      "/home/jgl/anaconda3/envs/pytorch/lib/python3.8/site-packages/sklearn/linear_model/_logistic.py:1355: UserWarning: 'n_jobs' > 1 does not have any effect when 'solver' is set to 'liblinear'. Got 'n_jobs' = 32.\n",
      "  warnings.warn(\"'n_jobs' > 1 does not have any effect when\"\n",
      "/home/jgl/anaconda3/envs/pytorch/lib/python3.8/site-packages/sklearn/linear_model/_logistic.py:1355: UserWarning: 'n_jobs' > 1 does not have any effect when 'solver' is set to 'liblinear'. Got 'n_jobs' = 32.\n",
      "  warnings.warn(\"'n_jobs' > 1 does not have any effect when\"\n",
      "/home/jgl/anaconda3/envs/pytorch/lib/python3.8/site-packages/sklearn/linear_model/_logistic.py:1355: UserWarning: 'n_jobs' > 1 does not have any effect when 'solver' is set to 'liblinear'. Got 'n_jobs' = 32.\n",
      "  warnings.warn(\"'n_jobs' > 1 does not have any effect when\"\n",
      "/home/jgl/anaconda3/envs/pytorch/lib/python3.8/site-packages/sklearn/linear_model/_logistic.py:1355: UserWarning: 'n_jobs' > 1 does not have any effect when 'solver' is set to 'liblinear'. Got 'n_jobs' = 32.\n",
      "  warnings.warn(\"'n_jobs' > 1 does not have any effect when\"\n",
      "/home/jgl/anaconda3/envs/pytorch/lib/python3.8/site-packages/sklearn/linear_model/_logistic.py:1355: UserWarning: 'n_jobs' > 1 does not have any effect when 'solver' is set to 'liblinear'. Got 'n_jobs' = 32.\n",
      "  warnings.warn(\"'n_jobs' > 1 does not have any effect when\"\n",
      "/home/jgl/anaconda3/envs/pytorch/lib/python3.8/site-packages/sklearn/linear_model/_logistic.py:1355: UserWarning: 'n_jobs' > 1 does not have any effect when 'solver' is set to 'liblinear'. Got 'n_jobs' = 32.\n",
      "  warnings.warn(\"'n_jobs' > 1 does not have any effect when\"\n",
      "/home/jgl/anaconda3/envs/pytorch/lib/python3.8/site-packages/sklearn/linear_model/_logistic.py:1355: UserWarning: 'n_jobs' > 1 does not have any effect when 'solver' is set to 'liblinear'. Got 'n_jobs' = 32.\n",
      "  warnings.warn(\"'n_jobs' > 1 does not have any effect when\"\n",
      "/home/jgl/anaconda3/envs/pytorch/lib/python3.8/site-packages/sklearn/linear_model/_logistic.py:1355: UserWarning: 'n_jobs' > 1 does not have any effect when 'solver' is set to 'liblinear'. Got 'n_jobs' = 32.\n",
      "  warnings.warn(\"'n_jobs' > 1 does not have any effect when\"\n",
      "/home/jgl/anaconda3/envs/pytorch/lib/python3.8/site-packages/sklearn/linear_model/_logistic.py:1355: UserWarning: 'n_jobs' > 1 does not have any effect when 'solver' is set to 'liblinear'. Got 'n_jobs' = 32.\n",
      "  warnings.warn(\"'n_jobs' > 1 does not have any effect when\"\n",
      "/home/jgl/anaconda3/envs/pytorch/lib/python3.8/site-packages/sklearn/linear_model/_logistic.py:1355: UserWarning: 'n_jobs' > 1 does not have any effect when 'solver' is set to 'liblinear'. Got 'n_jobs' = 32.\n",
      "  warnings.warn(\"'n_jobs' > 1 does not have any effect when\"\n",
      "/home/jgl/anaconda3/envs/pytorch/lib/python3.8/site-packages/sklearn/linear_model/_logistic.py:1355: UserWarning: 'n_jobs' > 1 does not have any effect when 'solver' is set to 'liblinear'. Got 'n_jobs' = 32.\n",
      "  warnings.warn(\"'n_jobs' > 1 does not have any effect when\"\n",
      "/home/jgl/anaconda3/envs/pytorch/lib/python3.8/site-packages/sklearn/linear_model/_logistic.py:1355: UserWarning: 'n_jobs' > 1 does not have any effect when 'solver' is set to 'liblinear'. Got 'n_jobs' = 32.\n",
      "  warnings.warn(\"'n_jobs' > 1 does not have any effect when\"\n",
      "/home/jgl/anaconda3/envs/pytorch/lib/python3.8/site-packages/sklearn/linear_model/_logistic.py:1355: UserWarning: 'n_jobs' > 1 does not have any effect when 'solver' is set to 'liblinear'. Got 'n_jobs' = 32.\n",
      "  warnings.warn(\"'n_jobs' > 1 does not have any effect when\"\n",
      "/home/jgl/anaconda3/envs/pytorch/lib/python3.8/site-packages/sklearn/linear_model/_logistic.py:1355: UserWarning: 'n_jobs' > 1 does not have any effect when 'solver' is set to 'liblinear'. Got 'n_jobs' = 32.\n",
      "  warnings.warn(\"'n_jobs' > 1 does not have any effect when\"\n",
      "/home/jgl/anaconda3/envs/pytorch/lib/python3.8/site-packages/sklearn/linear_model/_logistic.py:1355: UserWarning: 'n_jobs' > 1 does not have any effect when 'solver' is set to 'liblinear'. Got 'n_jobs' = 32.\n",
      "  warnings.warn(\"'n_jobs' > 1 does not have any effect when\"\n",
      "/home/jgl/anaconda3/envs/pytorch/lib/python3.8/site-packages/sklearn/linear_model/_logistic.py:1355: UserWarning: 'n_jobs' > 1 does not have any effect when 'solver' is set to 'liblinear'. Got 'n_jobs' = 32.\n",
      "  warnings.warn(\"'n_jobs' > 1 does not have any effect when\"\n",
      "/home/jgl/anaconda3/envs/pytorch/lib/python3.8/site-packages/sklearn/linear_model/_logistic.py:1355: UserWarning: 'n_jobs' > 1 does not have any effect when 'solver' is set to 'liblinear'. Got 'n_jobs' = 32.\n",
      "  warnings.warn(\"'n_jobs' > 1 does not have any effect when\"\n",
      "/home/jgl/anaconda3/envs/pytorch/lib/python3.8/site-packages/sklearn/linear_model/_logistic.py:1355: UserWarning: 'n_jobs' > 1 does not have any effect when 'solver' is set to 'liblinear'. Got 'n_jobs' = 32.\n",
      "  warnings.warn(\"'n_jobs' > 1 does not have any effect when\"\n",
      "/home/jgl/anaconda3/envs/pytorch/lib/python3.8/site-packages/sklearn/linear_model/_logistic.py:1355: UserWarning: 'n_jobs' > 1 does not have any effect when 'solver' is set to 'liblinear'. Got 'n_jobs' = 32.\n",
      "  warnings.warn(\"'n_jobs' > 1 does not have any effect when\"\n"
     ]
    },
    {
     "data": {
      "text/plain": [
       "GridSearchCV(cv=5,\n",
       "             estimator=LogisticRegression(class_weight='balanced',\n",
       "                                          max_iter=100000, n_jobs=-1,\n",
       "                                          random_state=42),\n",
       "             param_grid={'C': [0.0001, 0.0005, 0.001, 0.005, 0.1, 0.5, 1, 10,\n",
       "                               50, 100, 150, 200],\n",
       "                         'solver': ['newton-cg', 'lbfgs', 'liblinear', 'sag',\n",
       "                                    'saga']},\n",
       "             scoring='roc_auc')"
      ]
     },
     "execution_count": 33,
     "metadata": {},
     "output_type": "execute_result"
    }
   ],
   "source": [
    "# gridsearch\n",
    "Cs = [0.0001, 0.0005, 0.001, 0.005, 0.1, 0.5, 1, 10, 50, 100, 150, 200]\n",
    "solvers = ['newton-cg', 'lbfgs', 'liblinear', 'sag', 'saga']\n",
    "tuned_parameters = dict(C=Cs, solver=solvers)\n",
    "clf = LogisticRegression(random_state=42, class_weight='balanced', max_iter=100000, n_jobs=-1)\n",
    "grid = GridSearchCV(clf, tuned_parameters, cv=5, scoring='roc_auc')\n",
    "grid.fit(x_train, y_train)"
   ]
  },
  {
   "cell_type": "code",
   "execution_count": 34,
   "id": "7346b63c",
   "metadata": {},
   "outputs": [
    {
     "name": "stdout",
     "output_type": "stream",
     "text": [
      "0.7795044067643004\n",
      "{'C': 10, 'solver': 'sag'}\n"
     ]
    }
   ],
   "source": [
    "print(grid.best_score_)\n",
    "print(grid.best_params_)"
   ]
  },
  {
   "cell_type": "code",
   "execution_count": 35,
   "id": "d235804a",
   "metadata": {},
   "outputs": [],
   "source": [
    "clf = LogisticRegression(random_state=42,C=10,solver=\"sag\", class_weight='balanced', max_iter=100000, n_jobs=-1).fit(x_train, y_train)"
   ]
  },
  {
   "cell_type": "code",
   "execution_count": 36,
   "id": "97ee53b1",
   "metadata": {},
   "outputs": [],
   "source": [
    "preds = clf.predict(x_test)\n",
    "logits = clf.predict_proba(x_test)"
   ]
  },
  {
   "cell_type": "code",
   "execution_count": 37,
   "id": "a657ae0e",
   "metadata": {},
   "outputs": [
    {
     "data": {
      "text/plain": [
       "0.6954023851239634"
      ]
     },
     "execution_count": 37,
     "metadata": {},
     "output_type": "execute_result"
    }
   ],
   "source": [
    "roc_auc_score(y_test, preds)"
   ]
  },
  {
   "cell_type": "code",
   "execution_count": 38,
   "id": "97d751be",
   "metadata": {},
   "outputs": [
    {
     "data": {
      "text/plain": [
       "0.26324524329177096"
      ]
     },
     "execution_count": 38,
     "metadata": {},
     "output_type": "execute_result"
    }
   ],
   "source": [
    "matthews_corrcoef(y_test, preds)"
   ]
  },
  {
   "cell_type": "code",
   "execution_count": 39,
   "id": "ad4b890e",
   "metadata": {},
   "outputs": [
    {
     "name": "stdout",
     "output_type": "stream",
     "text": [
      "75\n",
      "136\n",
      "top2 acc: 0.5514705882352942\n"
     ]
    }
   ],
   "source": [
    "# 拆分出logits， 计算top-k\n",
    "top2 = 0\n",
    "pre = 0\n",
    "for i in range(len(te_indices)):\n",
    "    if i == 0:\n",
    "        y_preds = logits[:te_indices[i], :][:, 1]\n",
    "        topk_values, topk_indices = find_topk(y_preds, 2)\n",
    "        for a in range(len(test_set[i][1])):\n",
    "            if test_set[i][1][a] == 1 and a in topk_indices:\n",
    "                top2 += 1\n",
    "                break\n",
    "    else:\n",
    "        j = i - 1\n",
    "        pre += te_indices[j]\n",
    "        y_preds = logits[pre:pre + te_indices[i], :][:, 1]\n",
    "        topk_values, topk_indices = find_topk(y_preds, 2)\n",
    "        for a in range(len(test_set[i][1])):\n",
    "            if test_set[i][1][a] == 1 and a in topk_indices:\n",
    "                top2 += 1\n",
    "                break\n",
    "print(top2)\n",
    "print(len(test_set))\n",
    "print(f'top2 acc: {top2 / len(test_set)}')"
   ]
  },
  {
   "cell_type": "markdown",
   "id": "0e7a1787",
   "metadata": {},
   "source": [
    "# naive bayes"
   ]
  },
  {
   "cell_type": "code",
   "execution_count": 40,
   "id": "bebb8a02",
   "metadata": {},
   "outputs": [
    {
     "data": {
      "text/plain": [
       "GaussianNB()"
      ]
     },
     "execution_count": 40,
     "metadata": {},
     "output_type": "execute_result"
    }
   ],
   "source": [
    "clf = GaussianNB()\n",
    "clf.fit(x_train, y_train)"
   ]
  },
  {
   "cell_type": "code",
   "execution_count": 41,
   "id": "f8d114f9",
   "metadata": {},
   "outputs": [],
   "source": [
    "preds = clf.predict(x_test)\n",
    "logits = clf.predict_proba(x_test)"
   ]
  },
  {
   "cell_type": "code",
   "execution_count": 42,
   "id": "0d0e7c4f",
   "metadata": {},
   "outputs": [
    {
     "data": {
      "text/plain": [
       "0.5706315796245821"
      ]
     },
     "execution_count": 42,
     "metadata": {},
     "output_type": "execute_result"
    }
   ],
   "source": [
    "roc_auc_score(y_test, preds)"
   ]
  },
  {
   "cell_type": "code",
   "execution_count": 43,
   "id": "ab361aab",
   "metadata": {},
   "outputs": [
    {
     "data": {
      "text/plain": [
       "0.11947133943677866"
      ]
     },
     "execution_count": 43,
     "metadata": {},
     "output_type": "execute_result"
    }
   ],
   "source": [
    "matthews_corrcoef(y_test, preds)"
   ]
  },
  {
   "cell_type": "code",
   "execution_count": 44,
   "id": "11f4f5a6",
   "metadata": {},
   "outputs": [
    {
     "name": "stdout",
     "output_type": "stream",
     "text": [
      "68\n",
      "136\n",
      "top2 acc: 0.5\n"
     ]
    }
   ],
   "source": [
    "# 拆分出logits， 计算top-k\n",
    "top2 = 0\n",
    "pre = 0\n",
    "for i in range(len(te_indices)):\n",
    "    if i == 0:\n",
    "        y_preds = logits[:te_indices[i], :][:, 1]\n",
    "        topk_values, topk_indices = find_topk(y_preds, 2)\n",
    "        for a in range(len(test_set[i][1])):\n",
    "            if test_set[i][1][a] == 1 and a in topk_indices:\n",
    "                top2 += 1\n",
    "                break\n",
    "    else:\n",
    "        j = i - 1\n",
    "        pre += te_indices[j]\n",
    "        y_preds = logits[pre:pre + te_indices[i], :][:, 1]\n",
    "        topk_values, topk_indices = find_topk(y_preds, 2)\n",
    "        for a in range(len(test_set[i][1])):\n",
    "            if test_set[i][1][a] == 1 and a in topk_indices:\n",
    "                top2 += 1\n",
    "                break\n",
    "print(top2)\n",
    "print(len(test_set))\n",
    "print(f'top2 acc: {top2 / len(test_set)}')"
   ]
  },
  {
   "cell_type": "markdown",
   "id": "ee4d9237",
   "metadata": {},
   "source": [
    "# svm"
   ]
  },
  {
   "cell_type": "code",
   "execution_count": 45,
   "id": "186207b7",
   "metadata": {},
   "outputs": [
    {
     "data": {
      "text/plain": [
       "GridSearchCV(cv=5, estimator=SVC(class_weight='balanced', random_state=42),\n",
       "             param_grid={'C': [0.0001, 0.0005, 0.001, 0.005, 0.1, 0.5, 1, 10,\n",
       "                               50, 100, 150, 200],\n",
       "                         'degree': [2, 3, 4, 5], 'gamma': ['scale', 'auto'],\n",
       "                         'kernel': ['linear', 'poly', 'rbf', 'sigmoid']},\n",
       "             scoring='roc_auc')"
      ]
     },
     "execution_count": 45,
     "metadata": {},
     "output_type": "execute_result"
    }
   ],
   "source": [
    "# gridsearch\n",
    "Cs = [0.0001, 0.0005, 0.001, 0.005, 0.1, 0.5, 1, 10, 50, 100, 150, 200]\n",
    "kernels = ['linear', 'poly', 'rbf', 'sigmoid']\n",
    "degrees = [2,3,4,5]\n",
    "gammas = ['scale', 'auto']\n",
    "tuned_parameters = dict(C=Cs,kernel=kernels, degree=degrees, gamma = gammas)\n",
    "clf = SVC(random_state=42, class_weight='balanced')\n",
    "grid = GridSearchCV(clf, tuned_parameters, cv=5, scoring='roc_auc')\n",
    "grid.fit(x_train, y_train)"
   ]
  },
  {
   "cell_type": "code",
   "execution_count": 46,
   "id": "3366026a",
   "metadata": {},
   "outputs": [
    {
     "name": "stdout",
     "output_type": "stream",
     "text": [
      "0.7704019157268416\n",
      "{'C': 0.1, 'degree': 2, 'gamma': 'scale', 'kernel': 'linear'}\n"
     ]
    }
   ],
   "source": [
    "print(grid.best_score_)\n",
    "print(grid.best_params_)"
   ]
  },
  {
   "cell_type": "code",
   "execution_count": 47,
   "id": "23dad8e4",
   "metadata": {},
   "outputs": [],
   "source": [
    "clf = SVC(C=0.1, degree=2, gamma='scale', kernel='linear',random_state=42, class_weight='balanced', probability=True).fit(x_train, y_train)"
   ]
  },
  {
   "cell_type": "code",
   "execution_count": 48,
   "id": "8821c0a5",
   "metadata": {},
   "outputs": [],
   "source": [
    "preds = clf.predict(x_test)\n",
    "logits = clf.predict_proba(x_test)"
   ]
  },
  {
   "cell_type": "code",
   "execution_count": 49,
   "id": "b9b43337",
   "metadata": {},
   "outputs": [
    {
     "data": {
      "text/plain": [
       "0.6858373346314767"
      ]
     },
     "execution_count": 49,
     "metadata": {},
     "output_type": "execute_result"
    }
   ],
   "source": [
    "roc_auc_score(y_test, preds)"
   ]
  },
  {
   "cell_type": "code",
   "execution_count": 50,
   "id": "b9781488",
   "metadata": {},
   "outputs": [
    {
     "data": {
      "text/plain": [
       "0.2462519243916313"
      ]
     },
     "execution_count": 50,
     "metadata": {},
     "output_type": "execute_result"
    }
   ],
   "source": [
    "matthews_corrcoef(y_test, preds)"
   ]
  },
  {
   "cell_type": "code",
   "execution_count": 51,
   "id": "7f8d8cac",
   "metadata": {},
   "outputs": [
    {
     "name": "stdout",
     "output_type": "stream",
     "text": [
      "69\n",
      "136\n",
      "top2 acc: 0.5073529411764706\n"
     ]
    }
   ],
   "source": [
    "# 拆分出logits， 计算top-k\n",
    "top2 = 0\n",
    "pre = 0\n",
    "for i in range(len(te_indices)):\n",
    "    if i == 0:\n",
    "        y_preds = logits[:te_indices[i], :][:, 1]\n",
    "        topk_values, topk_indices = find_topk(y_preds, 2)\n",
    "        for a in range(len(test_set[i][1])):\n",
    "            if test_set[i][1][a] == 1 and a in topk_indices:\n",
    "                top2 += 1\n",
    "                break\n",
    "    else:\n",
    "        j = i - 1\n",
    "        pre += te_indices[j]\n",
    "        y_preds = logits[pre:pre + te_indices[i], :][:, 1]\n",
    "        topk_values, topk_indices = find_topk(y_preds, 2)\n",
    "        for a in range(len(test_set[i][1])):\n",
    "            if test_set[i][1][a] == 1 and a in topk_indices:\n",
    "                top2 += 1\n",
    "                break\n",
    "print(top2)\n",
    "print(len(test_set))\n",
    "print(f'top2 acc: {top2 / len(test_set)}')"
   ]
  },
  {
   "cell_type": "code",
   "execution_count": null,
   "id": "a48774f7",
   "metadata": {},
   "outputs": [],
   "source": []
  },
  {
   "cell_type": "code",
   "execution_count": null,
   "id": "2faf0e9c",
   "metadata": {},
   "outputs": [],
   "source": []
  }
 ],
 "metadata": {
  "kernelspec": {
   "display_name": "Python 3 (ipykernel)",
   "language": "python",
   "name": "python3"
  },
  "language_info": {
   "codemirror_mode": {
    "name": "ipython",
    "version": 3
   },
   "file_extension": ".py",
   "mimetype": "text/x-python",
   "name": "python",
   "nbconvert_exporter": "python",
   "pygments_lexer": "ipython3",
   "version": "3.8.16"
  }
 },
 "nbformat": 4,
 "nbformat_minor": 5
}
